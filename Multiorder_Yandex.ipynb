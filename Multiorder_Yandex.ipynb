{
 "cells": [
  {
   "cell_type": "code",
   "execution_count": 2,
   "metadata": {},
   "outputs": [],
   "source": [
    "import pandas as pd\n",
    "import numpy as np\n",
    "import matplotlib.pyplot as plt\n",
    "import seaborn as sns"
   ]
  },
  {
   "cell_type": "code",
   "execution_count": 41,
   "metadata": {},
   "outputs": [
    {
     "data": {
      "text/html": [
       "<div>\n",
       "<style scoped>\n",
       "    .dataframe tbody tr th:only-of-type {\n",
       "        vertical-align: middle;\n",
       "    }\n",
       "\n",
       "    .dataframe tbody tr th {\n",
       "        vertical-align: top;\n",
       "    }\n",
       "\n",
       "    .dataframe thead th {\n",
       "        text-align: right;\n",
       "    }\n",
       "</style>\n",
       "<table border=\"1\" class=\"dataframe\">\n",
       "  <thead>\n",
       "    <tr style=\"text-align: right;\">\n",
       "      <th></th>\n",
       "      <th>order_created_datetime</th>\n",
       "      <th>brand_name</th>\n",
       "      <th>rest_id</th>\n",
       "      <th>batched_with_order_id</th>\n",
       "      <th>order_id</th>\n",
       "      <th>first_in_multiorder_flg</th>\n",
       "      <th>courier_id</th>\n",
       "      <th>order_items_cnt</th>\n",
       "      <th>city</th>\n",
       "    </tr>\n",
       "  </thead>\n",
       "  <tbody>\n",
       "    <tr>\n",
       "      <td>0</td>\n",
       "      <td>2015-09-15 21:08:43</td>\n",
       "      <td>B</td>\n",
       "      <td>7cc98331ddb8ccffe464455f3df763d9</td>\n",
       "      <td>NaN</td>\n",
       "      <td>0b6f25c79b35fd1e6d28d845b7ee511d</td>\n",
       "      <td>NaN</td>\n",
       "      <td>3f1b96f620988a92d3409ea05e87bd36</td>\n",
       "      <td>3</td>\n",
       "      <td>c6fbacc5cab7e134c9db2a4bbfcc5b64</td>\n",
       "    </tr>\n",
       "    <tr>\n",
       "      <td>1</td>\n",
       "      <td>2015-09-13 18:40:12</td>\n",
       "      <td>A</td>\n",
       "      <td>9b73035bb90cd7de4b9c1ff01e44f178</td>\n",
       "      <td>NaN</td>\n",
       "      <td>793f2fa9aa3d52d2da05caa3c30cb77e</td>\n",
       "      <td>NaN</td>\n",
       "      <td>8ed37467dc9b257b3b3bdc1bfebd9b28</td>\n",
       "      <td>8</td>\n",
       "      <td>e6705560085199e9674cd721ee844d0d</td>\n",
       "    </tr>\n",
       "    <tr>\n",
       "      <td>2</td>\n",
       "      <td>2015-09-14 01:52:40</td>\n",
       "      <td>A</td>\n",
       "      <td>9b73035bb90cd7de4b9c1ff01e44f178</td>\n",
       "      <td>NaN</td>\n",
       "      <td>b6c5ec927a3e314b0900c103a0cd68fa</td>\n",
       "      <td>NaN</td>\n",
       "      <td>5b17547f825d9cf35c7853621dd842f8</td>\n",
       "      <td>1</td>\n",
       "      <td>e6705560085199e9674cd721ee844d0d</td>\n",
       "    </tr>\n",
       "    <tr>\n",
       "      <td>3</td>\n",
       "      <td>2015-09-13 17:23:52</td>\n",
       "      <td>B</td>\n",
       "      <td>7cc98331ddb8ccffe464455f3df763d9</td>\n",
       "      <td>NaN</td>\n",
       "      <td>5dc658f0928569dbefac74c9f311031c</td>\n",
       "      <td>NaN</td>\n",
       "      <td>81647a72700bd46635d9606082360cc8</td>\n",
       "      <td>6</td>\n",
       "      <td>c6fbacc5cab7e134c9db2a4bbfcc5b64</td>\n",
       "    </tr>\n",
       "    <tr>\n",
       "      <td>4</td>\n",
       "      <td>2015-09-13 11:15:05</td>\n",
       "      <td>B</td>\n",
       "      <td>7cc98331ddb8ccffe464455f3df763d9</td>\n",
       "      <td>NaN</td>\n",
       "      <td>3da09410aeab781baf4b7039fc9b125c</td>\n",
       "      <td>NaN</td>\n",
       "      <td>065c18216b6d3369d4cc36418c6e80f2</td>\n",
       "      <td>7</td>\n",
       "      <td>c6fbacc5cab7e134c9db2a4bbfcc5b64</td>\n",
       "    </tr>\n",
       "  </tbody>\n",
       "</table>\n",
       "</div>"
      ],
      "text/plain": [
       "  order_created_datetime brand_name                           rest_id  \\\n",
       "0    2015-09-15 21:08:43          B  7cc98331ddb8ccffe464455f3df763d9   \n",
       "1    2015-09-13 18:40:12          A  9b73035bb90cd7de4b9c1ff01e44f178   \n",
       "2    2015-09-14 01:52:40          A  9b73035bb90cd7de4b9c1ff01e44f178   \n",
       "3    2015-09-13 17:23:52          B  7cc98331ddb8ccffe464455f3df763d9   \n",
       "4    2015-09-13 11:15:05          B  7cc98331ddb8ccffe464455f3df763d9   \n",
       "\n",
       "  batched_with_order_id                          order_id  \\\n",
       "0                   NaN  0b6f25c79b35fd1e6d28d845b7ee511d   \n",
       "1                   NaN  793f2fa9aa3d52d2da05caa3c30cb77e   \n",
       "2                   NaN  b6c5ec927a3e314b0900c103a0cd68fa   \n",
       "3                   NaN  5dc658f0928569dbefac74c9f311031c   \n",
       "4                   NaN  3da09410aeab781baf4b7039fc9b125c   \n",
       "\n",
       "   first_in_multiorder_flg                        courier_id  order_items_cnt  \\\n",
       "0                      NaN  3f1b96f620988a92d3409ea05e87bd36                3   \n",
       "1                      NaN  8ed37467dc9b257b3b3bdc1bfebd9b28                8   \n",
       "2                      NaN  5b17547f825d9cf35c7853621dd842f8                1   \n",
       "3                      NaN  81647a72700bd46635d9606082360cc8                6   \n",
       "4                      NaN  065c18216b6d3369d4cc36418c6e80f2                7   \n",
       "\n",
       "                               city  \n",
       "0  c6fbacc5cab7e134c9db2a4bbfcc5b64  \n",
       "1  e6705560085199e9674cd721ee844d0d  \n",
       "2  e6705560085199e9674cd721ee844d0d  \n",
       "3  c6fbacc5cab7e134c9db2a4bbfcc5b64  \n",
       "4  c6fbacc5cab7e134c9db2a4bbfcc5b64  "
      ]
     },
     "execution_count": 41,
     "metadata": {},
     "output_type": "execute_result"
    }
   ],
   "source": [
    "# Загружаем данные\n",
    "data = pd.read_excel('data.xlsx')\n",
    "#data = pd.read_csv('data.csv')\n",
    "data['order_created_datetime'] = pd.to_datetime(data['order_created_datetime'],\n",
    "                                                format = '%Y-%m-%d %H:%M:%S')\n",
    "data.head()"
   ]
  },
  {
   "cell_type": "code",
   "execution_count": 22,
   "metadata": {},
   "outputs": [],
   "source": [
    "# Размеченная часть выборки А с мультизаказами\n",
    "double_df = data[pd.notna(data['batched_with_order_id'])].reset_index(drop=True) \n",
    "# Город с размеченными данными \n",
    "city_view = double_df.city.unique()[0]\n",
    "# Размеченная часть выборки А с одиночными заказами\n",
    "ones_df = data[(pd.isna(data['batched_with_order_id'])) & (data.brand_name == 'A') & (data.city == city_view)].reset_index(drop=True)  "
   ]
  },
  {
   "cell_type": "code",
   "execution_count": 23,
   "metadata": {},
   "outputs": [
    {
     "data": {
      "text/html": [
       "<div>\n",
       "<style scoped>\n",
       "    .dataframe tbody tr th:only-of-type {\n",
       "        vertical-align: middle;\n",
       "    }\n",
       "\n",
       "    .dataframe tbody tr th {\n",
       "        vertical-align: top;\n",
       "    }\n",
       "\n",
       "    .dataframe thead th {\n",
       "        text-align: right;\n",
       "    }\n",
       "</style>\n",
       "<table border=\"1\" class=\"dataframe\">\n",
       "  <thead>\n",
       "    <tr style=\"text-align: right;\">\n",
       "      <th></th>\n",
       "      <th>order_created_datetime</th>\n",
       "      <th>brand_name</th>\n",
       "      <th>rest_id</th>\n",
       "      <th>batched_with_order_id</th>\n",
       "      <th>order_id</th>\n",
       "      <th>first_in_multiorder_flg</th>\n",
       "      <th>courier_id</th>\n",
       "      <th>order_items_cnt</th>\n",
       "      <th>city</th>\n",
       "    </tr>\n",
       "  </thead>\n",
       "  <tbody>\n",
       "    <tr>\n",
       "      <td>0</td>\n",
       "      <td>2015-09-13 17:37:08</td>\n",
       "      <td>A</td>\n",
       "      <td>8da96a16838351f6f096d45a4e159f4d</td>\n",
       "      <td>89164b34e9d20a1c1918d156ca7c2b1e</td>\n",
       "      <td>9f8fb710b29202ac3dc36a6712186de4</td>\n",
       "      <td>0.0</td>\n",
       "      <td>2644231e976679c41b15a11524a4e530</td>\n",
       "      <td>8</td>\n",
       "      <td>e6705560085199e9674cd721ee844d0d</td>\n",
       "    </tr>\n",
       "    <tr>\n",
       "      <td>1</td>\n",
       "      <td>2015-09-13 11:18:49</td>\n",
       "      <td>A</td>\n",
       "      <td>b3bf2fc20c4646298c05716fbe1aa135</td>\n",
       "      <td>afc4c403cc654734538b007fdbc87664</td>\n",
       "      <td>d887b9731cf06e5dd77623ef5ad56cd8</td>\n",
       "      <td>0.0</td>\n",
       "      <td>8632dc891885aba8e572522dedc7572f</td>\n",
       "      <td>3</td>\n",
       "      <td>e6705560085199e9674cd721ee844d0d</td>\n",
       "    </tr>\n",
       "    <tr>\n",
       "      <td>2</td>\n",
       "      <td>2015-09-15 11:55:03</td>\n",
       "      <td>A</td>\n",
       "      <td>2acb4a3db77b139dda1cd6bcbbfd4b8e</td>\n",
       "      <td>986941e665d646910d432b5f48f9b94c</td>\n",
       "      <td>fd0dde82caff2d709ac803c8872fd1e9</td>\n",
       "      <td>0.0</td>\n",
       "      <td>7e8de661602e618fe8cb16c8b3e02a95</td>\n",
       "      <td>3</td>\n",
       "      <td>e6705560085199e9674cd721ee844d0d</td>\n",
       "    </tr>\n",
       "    <tr>\n",
       "      <td>3</td>\n",
       "      <td>2015-09-15 17:36:03</td>\n",
       "      <td>A</td>\n",
       "      <td>525505123c94df09ef5b5614e4afe7b2</td>\n",
       "      <td>d469fe73826b9b3f1a3ee58869d91757</td>\n",
       "      <td>b4e39b3e84e81f1ea34c353896ff6853</td>\n",
       "      <td>0.0</td>\n",
       "      <td>876e5276f463736bf52fc540664fd02e</td>\n",
       "      <td>5</td>\n",
       "      <td>e6705560085199e9674cd721ee844d0d</td>\n",
       "    </tr>\n",
       "    <tr>\n",
       "      <td>4</td>\n",
       "      <td>2015-09-13 17:08:07</td>\n",
       "      <td>A</td>\n",
       "      <td>680fee36fb26805d3bf7af52cdb44f0f</td>\n",
       "      <td>831b2771564b022030ce699e6807ab03</td>\n",
       "      <td>6efbee90330a0bced1f7938a2e209054</td>\n",
       "      <td>0.0</td>\n",
       "      <td>8a2d57b71452eed5c78c3f81ee2999d2</td>\n",
       "      <td>3</td>\n",
       "      <td>e6705560085199e9674cd721ee844d0d</td>\n",
       "    </tr>\n",
       "  </tbody>\n",
       "</table>\n",
       "</div>"
      ],
      "text/plain": [
       "  order_created_datetime brand_name                           rest_id  \\\n",
       "0    2015-09-13 17:37:08          A  8da96a16838351f6f096d45a4e159f4d   \n",
       "1    2015-09-13 11:18:49          A  b3bf2fc20c4646298c05716fbe1aa135   \n",
       "2    2015-09-15 11:55:03          A  2acb4a3db77b139dda1cd6bcbbfd4b8e   \n",
       "3    2015-09-15 17:36:03          A  525505123c94df09ef5b5614e4afe7b2   \n",
       "4    2015-09-13 17:08:07          A  680fee36fb26805d3bf7af52cdb44f0f   \n",
       "\n",
       "              batched_with_order_id                          order_id  \\\n",
       "0  89164b34e9d20a1c1918d156ca7c2b1e  9f8fb710b29202ac3dc36a6712186de4   \n",
       "1  afc4c403cc654734538b007fdbc87664  d887b9731cf06e5dd77623ef5ad56cd8   \n",
       "2  986941e665d646910d432b5f48f9b94c  fd0dde82caff2d709ac803c8872fd1e9   \n",
       "3  d469fe73826b9b3f1a3ee58869d91757  b4e39b3e84e81f1ea34c353896ff6853   \n",
       "4  831b2771564b022030ce699e6807ab03  6efbee90330a0bced1f7938a2e209054   \n",
       "\n",
       "   first_in_multiorder_flg                        courier_id  order_items_cnt  \\\n",
       "0                      0.0  2644231e976679c41b15a11524a4e530                8   \n",
       "1                      0.0  8632dc891885aba8e572522dedc7572f                3   \n",
       "2                      0.0  7e8de661602e618fe8cb16c8b3e02a95                3   \n",
       "3                      0.0  876e5276f463736bf52fc540664fd02e                5   \n",
       "4                      0.0  8a2d57b71452eed5c78c3f81ee2999d2                3   \n",
       "\n",
       "                               city  \n",
       "0  e6705560085199e9674cd721ee844d0d  \n",
       "1  e6705560085199e9674cd721ee844d0d  \n",
       "2  e6705560085199e9674cd721ee844d0d  \n",
       "3  e6705560085199e9674cd721ee844d0d  \n",
       "4  e6705560085199e9674cd721ee844d0d  "
      ]
     },
     "execution_count": 23,
     "metadata": {},
     "output_type": "execute_result"
    }
   ],
   "source": [
    "double_df.head()"
   ]
  },
  {
   "cell_type": "markdown",
   "metadata": {},
   "source": [
    "## Визуальный анализ данных"
   ]
  },
  {
   "cell_type": "markdown",
   "metadata": {},
   "source": [
    "### Сравнение количества позиций для заказов внутри мультизаказа"
   ]
  },
  {
   "cell_type": "code",
   "execution_count": 24,
   "metadata": {},
   "outputs": [
    {
     "data": {
      "image/png": "[encoded data removed]",
      "text/plain": [
       "<Figure size 432x288 with 1 Axes>"
      ]
     },
     "metadata": {
      "needs_background": "light"
     },
     "output_type": "display_data"
    }
   ],
   "source": [
    "# Сравним первый и второй заказы в мультизаказе\n",
    "first_in_double = double_df[double_df['first_in_multiorder_flg'] == 1.0].reset_index(drop=True)\n",
    "second_in_double = double_df[double_df['first_in_multiorder_flg'] == 0.0].reset_index(drop=True)\n",
    "# Посмотрим на распределение количества позиций в первом и втором заказе\n",
    "plt.hist(first_in_double.order_items_cnt, alpha = 0.5, bins = 20, label = 'first')\n",
    "plt.hist(second_in_double.order_items_cnt, alpha = 0.5, bins = 20, label = 'second')\n",
    "plt.legend(loc='upper right')\n",
    "plt.title('Число позиций в заказе')\n",
    "plt.show()"
   ]
  },
  {
   "cell_type": "code",
   "execution_count": 43,
   "metadata": {},
   "outputs": [
    {
     "data": {
      "image/png": "[encoded data removed]",
      "text/plain": [
       "<Figure size 432x288 with 1 Axes>"
      ]
     },
     "metadata": {
      "needs_background": "light"
     },
     "output_type": "display_data"
    }
   ],
   "source": [
    "# Проверим, что число позиций в первом заказе меньше, чем во втором\n",
    "f_m_s_cnt = []\n",
    "for i in range(len(first_in_double)):\n",
    "    second = double_df[double_df['order_id'] == first_in_double.loc[i]['batched_with_order_id']]['order_items_cnt'].values[0]\n",
    "    first = first_in_double.loc[i]['order_items_cnt']\n",
    "    delta_cnt = second - first\n",
    "    f_m_s_cnt.append(delta_cnt)\n",
    "plt.hist(f_m_s_cnt, bins = 25)\n",
    "plt.title(\"Delta items_cnt in multiorder\")\n",
    "plt.show()\n"
   ]
  },
  {
   "cell_type": "markdown",
   "metadata": {},
   "source": [
    "Распределение разницы в позициях мультизаказа имеет вид, близкий к нормальному симметричному относительно 0. Поэтому гипотеза о связи между количеством позиций в первом и втором заказе мультизаказа не будем далее рассматривать."
   ]
  },
  {
   "cell_type": "markdown",
   "metadata": {},
   "source": [
    "### Распределение количества позиций в заказе\n",
    "Сравним распределение для группы А, разделив на одиночные и мультизаказы, проведем тест Манна-Уитни для оценки однородности распределения количества позиций в заказе для одночных и мультизаказов"
   ]
  },
  {
   "cell_type": "code",
   "execution_count": 44,
   "metadata": {},
   "outputs": [
    {
     "data": {
      "image/png": "[encoded data removed]",
      "text/plain": [
       "<Figure size 432x288 with 1 Axes>"
      ]
     },
     "metadata": {
      "needs_background": "light"
     },
     "output_type": "display_data"
    }
   ],
   "source": [
    "# Посмотрим на распределение количества позиций в первом и втором заказе\n",
    "plt.hist(double_df.order_items_cnt, alpha = 0.5, label = 'double', density = True)\n",
    "plt.hist(ones_df.order_items_cnt, alpha = 0.5, label = 'single', density = True)\n",
    "plt.legend(loc='upper right')\n",
    "plt.title('Items_cnt')\n",
    "plt.show()"
   ]
  },
  {
   "cell_type": "code",
   "execution_count": 27,
   "metadata": {},
   "outputs": [
    {
     "name": "stdout",
     "output_type": "stream",
     "text": [
      "Statistics=979180.500, p=0.483\n",
      "Same distribution (fail to reject H0)\n"
     ]
    }
   ],
   "source": [
    "# Проведем тест Манна-Уитни для сравнения двух распределений по количеству позиций в заказе, считая из независимыми\n",
    "from scipy.stats import mannwhitneyu\n",
    "\n",
    "stat, p = mannwhitneyu(double_df.order_items_cnt, ones_df.order_items_cnt, use_continuity=True, alternative=None)\n",
    "print('Statistics=%.3f, p=%.3f' % (stat, p))\n",
    "# interpret\n",
    "alpha = 0.05\n",
    "if p > alpha:\n",
    "    print('Same distribution (fail to reject H0)')\n",
    "else:\n",
    "    print('Different distribution (reject H0)')\n"
   ]
  },
  {
   "cell_type": "markdown",
   "metadata": {},
   "source": [
    "Полученное значение статистики Манна-Уитни не позволяет нам говорить о различии в распределениях кол-ва позиций в заказе для одиночных и мультизаказов."
   ]
  },
  {
   "cell_type": "markdown",
   "metadata": {},
   "source": [
    "### Визуальная оценка данных, сгруппированных по ресторанам\n",
    "Сгруппируем размеченные данные по ресторанам, внутри ресторана отсортируем по времени заказа и посмотрим на сводные характеристики:\n",
    " - среднее время между заказами\n",
    " - среднее количество заказов\n",
    " - среднее количество позиций в заказе\n",
    " - доля мультизаказов\n",
    " \n",
    "Далее, посмотрим на связь этих параметров и попробуем сделать некоторые выводы\n",
    " "
   ]
  },
  {
   "cell_type": "code",
   "execution_count": 46,
   "metadata": {},
   "outputs": [],
   "source": [
    "unique_rest = data[(data.brand_name == 'A') & (data.city == city_view)].rest_id.value_counts()\n",
    "mean_dt = []\n",
    "multi_part = []\n",
    "order_count = []\n",
    "items_mean = []\n",
    "multi_order_cnt = []\n",
    "rest_ind = []\n",
    "for rest_id in unique_rest.index:\n",
    "    rest_df = data.loc[data.rest_id == rest_id,:]\n",
    "    if rest_df.shape[0]>1:\n",
    "        #rest_id = unique_rest.index[0]\n",
    "        rest_df = rest_df.sort_values(by = 'order_created_datetime')\n",
    "        # Разбег времен между заказами\n",
    "        #rest_df['diff_time'] = rest_df.order_created_datetime.shift(1)\n",
    "        delta_time =[x.total_seconds() for x in rest_df.order_created_datetime.diff()[1:] if x.total_seconds()]\n",
    "        #print(delta_time) \n",
    "        #break\n",
    "        rest_ind.append(rest_id)\n",
    "        mean_dt.append(sum(delta_time)/rest_df.shape[0])\n",
    "        multi_part.append(rest_df.batched_with_order_id.notna().sum() / rest_df.shape[0])\n",
    "        multi_order_cnt.append(rest_df.batched_with_order_id.notna().sum())\n",
    "        order_count.append(rest_df.shape[0])\n",
    "        items_mean.append(rest_df.order_items_cnt.mean())\n",
    "\n",
    "df = pd.DataFrame({'mean_dt':mean_dt,'multi_order_cnt':multi_order_cnt,'order_count':order_count,'items_mean':items_mean})\n",
    "# Количество мультизаказов\n",
    "df['multi_part'] = df.multi_order_cnt/ df.order_count"
   ]
  },
  {
   "cell_type": "code",
   "execution_count": 47,
   "metadata": {},
   "outputs": [
    {
     "data": {
      "image/png": "[encoded data removed]",
      "text/plain": [
       "<Figure size 432x288 with 1 Axes>"
      ]
     },
     "metadata": {
      "needs_background": "light"
     },
     "output_type": "display_data"
    }
   ],
   "source": [
    "# Доля мультизаказов в зависимости от среднего времени между заказами\n",
    "plt.scatter(df.mean_dt,df.multi_part)\n",
    "plt.title('Multi_part(mean_time)')\n",
    "plt.show()"
   ]
  },
  {
   "cell_type": "markdown",
   "metadata": {},
   "source": [
    " Видим, что чем меньше среднее время между заказами, тем выше доля мультизаказов по ресторану"
   ]
  },
  {
   "cell_type": "code",
   "execution_count": 52,
   "metadata": {},
   "outputs": [
    {
     "data": {
      "image/png": "[encoded data removed]",
      "text/plain": [
       "<Figure size 432x288 with 1 Axes>"
      ]
     },
     "metadata": {
      "needs_background": "light"
     },
     "output_type": "display_data"
    }
   ],
   "source": [
    "# Доля мультизаказов в зависимости от кол-ва заказов\n",
    "plt.scatter(order_count,multi_part)\n",
    "plt.title(\"Multi_part(order_count)\")\n",
    "plt.show()"
   ]
  },
  {
   "cell_type": "markdown",
   "metadata": {},
   "source": [
    "Видим, что присутствует обратная зависимость доли мультизаказов от числа заказов по ресторану. Но это связано через то, что чем больше кол-во заказов, тем меньше время ожидания"
   ]
  },
  {
   "cell_type": "code",
   "execution_count": 51,
   "metadata": {},
   "outputs": [
    {
     "data": {
      "image/png": "[encoded data removed]",
      "text/plain": [
       "<Figure size 432x288 with 1 Axes>"
      ]
     },
     "metadata": {
      "needs_background": "light"
     },
     "output_type": "display_data"
    }
   ],
   "source": [
    "# Число заказов и среднее время ожидания\n",
    "plt.scatter(order_count,mean_dt)\n",
    "plt.title(\"Mean_time(order_cnt)\")\n",
    "plt.show()"
   ]
  },
  {
   "cell_type": "markdown",
   "metadata": {},
   "source": [
    "Тут мы видим как раз эту обратную зависимость"
   ]
  },
  {
   "cell_type": "code",
   "execution_count": 50,
   "metadata": {},
   "outputs": [
    {
     "data": {
      "image/png": "[encoded data removed]",
      "text/plain": [
       "<Figure size 432x288 with 1 Axes>"
      ]
     },
     "metadata": {
      "needs_background": "light"
     },
     "output_type": "display_data"
    }
   ],
   "source": [
    "# Доля мультизаказов и среднее кол-во позиций\n",
    "plt.scatter(items_mean,multi_part)\n",
    "plt.title(\"Multi_part(items_cnt)\")\n",
    "plt.show()"
   ]
  },
  {
   "cell_type": "code",
   "execution_count": 53,
   "metadata": {},
   "outputs": [
    {
     "data": {
      "image/png": "[encoded data removed]",
      "text/plain": [
       "<Figure size 432x288 with 1 Axes>"
      ]
     },
     "metadata": {
      "needs_background": "light"
     },
     "output_type": "display_data"
    }
   ],
   "source": [
    "# Кол-во позицй в заказе и среднее время между заказами\n",
    "plt.scatter(items_mean,mean_dt)\n",
    "plt.title(\"Mean_time(items_count)\")\n",
    "plt.show()"
   ]
  },
  {
   "cell_type": "markdown",
   "metadata": {},
   "source": [
    "### Выводы по визуальному анализу по ресторанам:\n",
    "Видно, что присутствует зависимость между долей мультизаказов и средним временем ожидания между заказами. Остальные параметры не влияют как на долю мультизаказов по ресторану, поэтому попробуем развить эту гипотезу."
   ]
  },
  {
   "cell_type": "markdown",
   "metadata": {},
   "source": [
    "### Сравнение распределения параметров размеченной части выборки А и выборки В\n",
    "\n",
    "Для этого используем уже использованную группировку по ресторанам в каждой выборке и проанализируем распределения среднего времени между заказами и среднего числа позиций в заказе"
   ]
  },
  {
   "cell_type": "code",
   "execution_count": 54,
   "metadata": {},
   "outputs": [],
   "source": [
    "# Группируем по ресторанам А\n",
    "unique_rest = data[(data.brand_name == 'A') & (data.city == city_view)].rest_id.value_counts()\n",
    "mean_dt = []\n",
    "multi_part = []\n",
    "order_count = []\n",
    "items_mean = []\n",
    "multi_order_cnt = []\n",
    "rest_ind = []\n",
    "for rest_id in unique_rest.index:\n",
    "    rest_df = data.loc[data.rest_id == rest_id,:]\n",
    "    if rest_df.shape[0]>1:\n",
    "        rest_df = rest_df.sort_values(by = 'order_created_datetime')\n",
    "        delta_time =[x.total_seconds() for x in rest_df.order_created_datetime.diff()[1:] if x.total_seconds()<2*60*60]\n",
    "        rest_ind.append(rest_id)\n",
    "        mean_dt.append(sum(delta_time)/rest_df.shape[0])\n",
    "        multi_part.append(rest_df.batched_with_order_id.notna().sum() / rest_df.shape[0])\n",
    "        multi_order_cnt.append(rest_df.batched_with_order_id.notna().sum())\n",
    "        order_count.append(rest_df.shape[0])\n",
    "        items_mean.append(rest_df.order_items_cnt.mean())\n",
    "df_A = pd.DataFrame({'mean_dt':mean_dt,'multi_order_cnt':multi_order_cnt,'order_count':order_count,'items_mean':items_mean})\n",
    "df_A['multi_part'] = df.multi_order_cnt/ df.order_count\n",
    "\n",
    "# Группируем по ресторанам В\n",
    "unique_rest = data[(data.brand_name == 'B')].rest_id.value_counts()\n",
    "mean_dt = []\n",
    "multi_part = []\n",
    "order_count = []\n",
    "items_mean = []\n",
    "cour_count = []\n",
    "multi_order_cnt = []\n",
    "rest_ind = []\n",
    "for rest_id in unique_rest.index:\n",
    "    rest_df = data.loc[data.rest_id == rest_id,:]\n",
    "    if rest_df.shape[0]>1:\n",
    "        rest_df = rest_df.sort_values(by = 'order_created_datetime')\n",
    "        delta_time =[x.total_seconds() for x in rest_df.order_created_datetime.diff()[1:] if x.total_seconds()<2*60*60]\n",
    "        rest_ind.append(rest_id)\n",
    "        mean_dt.append(sum(delta_time)/rest_df.shape[0])\n",
    "        multi_part.append(rest_df.batched_with_order_id.notna().sum() / rest_df.shape[0])\n",
    "        multi_order_cnt.append(rest_df.batched_with_order_id.notna().sum())\n",
    "        order_count.append(rest_df.shape[0])\n",
    "        items_mean.append(rest_df.order_items_cnt.mean())\n",
    "        cour_count.append(rest_df.courier_id.unique().shape[0])\n",
    "df_B = pd.DataFrame({'mean_dt':mean_dt,'order_count':order_count,'items_mean':items_mean})\n"
   ]
  },
  {
   "cell_type": "markdown",
   "metadata": {},
   "source": [
    "Построим распределения сгруппированых по ресторанам данных по среднему времени между заказами и по среднему количеству позиций в заказе:"
   ]
  },
  {
   "cell_type": "code",
   "execution_count": 36,
   "metadata": {},
   "outputs": [
    {
     "data": {
      "image/png": "[encoded data removed]",
      "text/plain": [
       "<Figure size 432x288 with 1 Axes>"
      ]
     },
     "metadata": {
      "needs_background": "light"
     },
     "output_type": "display_data"
    }
   ],
   "source": [
    "# Среднее время между заказами для группы A и B\n",
    "plt.hist(df_A.mean_dt,bins = 20,alpha=0.5, label='A',density=True)\n",
    "plt.hist(df_B.mean_dt, bins = 20, alpha=0.5, label='B',density = True)\n",
    "plt.title('Среднее время между заказами')\n",
    "plt.legend(loc='upper right')\n",
    "plt.show()"
   ]
  },
  {
   "cell_type": "code",
   "execution_count": 55,
   "metadata": {},
   "outputs": [
    {
     "data": {
      "image/png": "[encoded data removed]",
      "text/plain": [
       "<Figure size 432x288 with 1 Axes>"
      ]
     },
     "metadata": {
      "needs_background": "light"
     },
     "output_type": "display_data"
    }
   ],
   "source": [
    "# Распределение среднего кол-ва позиций в заказе\n",
    "plt.hist(df_A.items_mean,bins = 50, alpha=0.5, label='A',density= True)\n",
    "plt.hist(df_B.items_mean,bins = 50, alpha=0.5, label='B', density= True)\n",
    "plt.legend(loc='upper right')\n",
    "plt.title(\"Среднее кол-во позиций в заказе\")\n",
    "plt.show()"
   ]
  },
  {
   "cell_type": "markdown",
   "metadata": {},
   "source": [
    "Исходя из полученных графиков, можно сделать вывод, что распределения в общих чертах похожи. При этом заметно, что среднее время ожидания между заказами для группы B меньше, чем для группы А, что позволяет предполагать большую долю мультизаказов для группы В."
   ]
  },
  {
   "cell_type": "markdown",
   "metadata": {},
   "source": [
    "### Оценка среднего времени ожидания между заказами в мультизаказе\n",
    "Посмотрим на распределение среднего времени ожидания между ресторанами, определим выбросы"
   ]
  },
  {
   "cell_type": "code",
   "execution_count": 57,
   "metadata": {},
   "outputs": [
    {
     "name": "stdout",
     "output_type": "stream",
     "text": [
      "Диаграмма размаха до изменений\n"
     ]
    },
    {
     "data": {
      "image/png": "[encoded data removed]",
      "text/plain": [
       "<Figure size 432x288 with 1 Axes>"
      ]
     },
     "metadata": {
      "needs_background": "light"
     },
     "output_type": "display_data"
    },
    {
     "name": "stdout",
     "output_type": "stream",
     "text": [
      "\n",
      "Избавляемся от строк, где есть выбросы, значения \n",
      " которых больше Q3 + 1.5*IQR (1183.500) и меньше Q1 - 1.5*IQR (-428.500).\n",
      "\n",
      "Диаграмма размаха после изменений\n"
     ]
    },
    {
     "data": {
      "image/png": "[encoded data removed]",
      "text/plain": [
       "<Figure size 432x288 with 1 Axes>"
      ]
     },
     "metadata": {
      "needs_background": "light"
     },
     "output_type": "display_data"
    },
    {
     "name": "stdout",
     "output_type": "stream",
     "text": [
      "\n",
      "Выбросов обнаружено : 7\n"
     ]
    }
   ],
   "source": [
    "intervals = []\n",
    "for i in range(len(first_in_double)):\n",
    "    second = double_df[double_df['order_id'] == first_in_double.loc[i]['batched_with_order_id']].values[0][0]\n",
    "    first = first_in_double.loc[i]['order_created_datetime']\n",
    "    interval = abs(second - first)\n",
    "    intervals.append(interval)\n",
    "intervals = pd.Series(intervals).dt.total_seconds()\n",
    "\n",
    "def graph_creator(basic_data_frame): \n",
    "    print('Диаграмма размаха до изменений')\n",
    "    openning_number = len(basic_data_frame)\n",
    "    info = basic_data_frame.describe()# получаем информацию о первом (Q1) и третьем квартилях (Q3)  \n",
    "    q1 = info[4]\n",
    "    q3 = info[6]\n",
    "    iqr = q3 - q1   # считаем межквартильный размах\n",
    "    border = iqr*1.5   # cчитаем расстояние от Q1 и Q3 до границы, за которой расположены выбросы\n",
    "    fig, ax = plt.subplots() # строим диаграмму размаха\n",
    "    plt.ylim(-0.8*border, q3 + border + 0.8*border) \n",
    "    ax = sns.boxplot(x=basic_data_frame, ax = ax)\n",
    "    plt.show()\n",
    "    print('')\n",
    "    print('Избавляемся от строк, где есть выбросы, значения \\n которых больше Q3 + 1.5*IQR ({:.3f}) и меньше Q1 - 1.5*IQR ({:.3f}).'.format(q3 + border,q1 - border))\n",
    "    basic_data_frame = basic_data_frame[(basic_data_frame >= (q1 - border))\n",
    "                                        & (basic_data_frame <= (q3 + border))]\n",
    "    close_number = len(basic_data_frame)\n",
    "    values_killed = openning_number - close_number\n",
    "    print('')\n",
    "    print('Диаграмма размаха после изменений')\n",
    "    fig, ax = plt.subplots() # строим диаграмму размаха\n",
    "    plt.ylim(-0.8*border, q3 + border + 0.8*border) \n",
    "    ax = sns.boxplot(x=basic_data_frame, ax = ax)\n",
    "    plt.show()\n",
    "    print('')\n",
    "    print('Выбросов обнаружено : {}'.format(values_killed))\n",
    "    return basic_data_frame\n",
    "\n",
    "intervals = graph_creator(intervals)"
   ]
  },
  {
   "cell_type": "markdown",
   "metadata": {},
   "source": [
    "### Разработка правила для объединения заказов в мультизаказ на основе интервала времени\n",
    "\n",
    "Построим правило, ориентированное на время между заказами внутри ресторана. По этому правилу оценим долю мультизаказов в группе В."
   ]
  },
  {
   "cell_type": "code",
   "execution_count": 60,
   "metadata": {},
   "outputs": [],
   "source": [
    "def return_multi_count(rest_df,delta):\n",
    "    '''\n",
    "    rest_df - датасет по ресторану, отсортированный по времени заказов\n",
    "    delta - время двумя между заказами, при значениях меньше которого мы объединяем их в один\n",
    "    Функция возвращает количество мультизаказов для ресторана\n",
    "    '''\n",
    "    multi_order = 0\n",
    "    single_order = 0\n",
    "    all_order = rest_df.shape[0]\n",
    "    prev_order_time = rest_df.iloc[0,0]\n",
    "    i = 1\n",
    "    if rest_df.shape[0] == 1:\n",
    "        return 0\n",
    "    else:\n",
    "        while i < rest_df.shape[0]:\n",
    "            delta_i = rest_df.iloc[i,0] - prev_order_time           \n",
    "            if delta_i.seconds < delta:\n",
    "                multi_order = multi_order + 2\n",
    "                prev_order_time = rest_df.iloc[i+1,0]\n",
    "                if i + 2 > rest_df.shape[0]:\n",
    "                    single_order = single_order + 1\n",
    "                    print(all_order,single_order + multi_order)\n",
    "                    break\n",
    "                i = i + 2\n",
    "            else:\n",
    "                single_order = single_order + 1\n",
    "                prev_order_time = rest_df.iloc[i,0]\n",
    "                i = i + 1\n",
    "            if i == rest_df.shape[0]-1:\n",
    "                single_order = single_order + 1\n",
    "                break\n",
    "        return multi_order"
   ]
  },
  {
   "cell_type": "markdown",
   "metadata": {},
   "source": [
    "В размеченных данных известно, что число мультизаказов равно 442 единицы. Найдем оптимальное значение сдвига во времени, при котором на выборке А в рассматриваемом городе мы получим близкое число мультизаказов"
   ]
  },
  {
   "cell_type": "code",
   "execution_count": 61,
   "metadata": {},
   "outputs": [
    {
     "name": "stdout",
     "output_type": "stream",
     "text": [
      "Интервал = 10 c, число мультизаказов = 16\n",
      "Интервал = 20 c, число мультизаказов = 50\n",
      "Интервал = 30 c, число мультизаказов = 74\n",
      "Интервал = 40 c, число мультизаказов = 96\n",
      "Интервал = 50 c, число мультизаказов = 126\n",
      "Интервал = 60 c, число мультизаказов = 138\n",
      "Интервал = 70 c, число мультизаказов = 164\n",
      "Интервал = 80 c, число мультизаказов = 180\n",
      "Интервал = 90 c, число мультизаказов = 198\n",
      "Интервал = 100 c, число мультизаказов = 224\n",
      "Интервал = 110 c, число мультизаказов = 244\n",
      "Интервал = 120 c, число мультизаказов = 256\n",
      "Интервал = 130 c, число мультизаказов = 284\n",
      "Интервал = 140 c, число мультизаказов = 304\n",
      "Интервал = 150 c, число мультизаказов = 324\n",
      "Интервал = 160 c, число мультизаказов = 354\n",
      "Интервал = 170 c, число мультизаказов = 380\n",
      "Интервал = 180 c, число мультизаказов = 404\n",
      "Интервал = 190 c, число мультизаказов = 418\n",
      "Интервал = 200 c, число мультизаказов = 448\n",
      "Интервал = 210 c, число мультизаказов = 470\n",
      "Интервал = 220 c, число мультизаказов = 492\n",
      "Интервал = 230 c, число мультизаказов = 512\n",
      "Интервал = 240 c, число мультизаказов = 526\n",
      "Интервал = 250 c, число мультизаказов = 552\n",
      "Интервал = 260 c, число мультизаказов = 572\n",
      "Интервал = 270 c, число мультизаказов = 596\n",
      "Интервал = 280 c, число мультизаказов = 618\n",
      "Интервал = 290 c, число мультизаказов = 640\n"
     ]
    }
   ],
   "source": [
    "# Тестовая выборка\n",
    "unique_rest = data[(data.brand_name == 'A') & (data.city == city_view)].rest_id.value_counts()\n",
    "multi_delta = []\n",
    "# Рассматриваем различные интервалы между заказами\n",
    "delta_range = range(10,300,10)\n",
    "for delta in delta_range:\n",
    "    multi = 0\n",
    "    for rest_id_i in unique_rest.index:\n",
    "        rest_df = data.loc[data.rest_id == rest_id_i,:]\n",
    "        rest_df = rest_df.sort_values(by = 'order_created_datetime')\n",
    "        multi += return_multi_count(rest_df,delta)\n",
    "    multi_delta.append(multi)\n",
    "    print(f\"Интервал = {delta} c, число мультизаказов = {multi}\")"
   ]
  },
  {
   "cell_type": "markdown",
   "metadata": {},
   "source": [
    "Таким образом, ближайшим к требуемому значению 442 мультизаказа, оказывается при интервале между заказами, равном 200 секунд.\n",
    "С помощью этой эвристики оценим долю мультизаказов для выборки В.\n"
   ]
  },
  {
   "cell_type": "code",
   "execution_count": 111,
   "metadata": {},
   "outputs": [
    {
     "name": "stdout",
     "output_type": "stream",
     "text": [
      "200 18200\n",
      "Группа B:\n",
      "Интервал = 200 секунд, кол-во мультизаказов = 18200\n",
      "Доля мультизаказов B = 0.3202252133368523\n",
      "Группа А:\n",
      "Доля мультизаказов A = 0.09061090610906108\n"
     ]
    }
   ],
   "source": [
    "unique_rest = data[(data.brand_name == 'B')].rest_id.value_counts()\n",
    "multi_delta = []\n",
    "delta = 200\n",
    "multi = 0\n",
    "for rest_id_i in unique_rest.index:\n",
    "    rest_df = data.loc[data.rest_id == rest_id_i,:]\n",
    "    rest_df = rest_df.sort_values(by = 'order_created_datetime')\n",
    "    multi += return_multi_count(rest_df,delta)\n",
    "print(f\"Интервал = {delta} c, число мультизаказов = {multi}\")\n",
    "print(\"Группа B:\")\n",
    "print(f\"Интервал = {delta} секунд, кол-во мультизаказов = {multi}\")\n",
    "print(f\"Доля мультизаказов B = {multi / data[(data.brand_name == 'B')].shape[0]}\")\n",
    "print(\"Группа А:\")\n",
    "print(f\"Доля мультизаказов A = {double_df.shape[0] / data[(data.brand_name == 'A') & (data.city == city_view)].shape[0]}\")"
   ]
  },
  {
   "cell_type": "markdown",
   "metadata": {},
   "source": [
    "Таким образом, эвристика, основанная на времени между заказами, дает нам долю мультизаказов в группе B, равной 32%."
   ]
  },
  {
   "cell_type": "markdown",
   "metadata": {},
   "source": [
    "### Применение классификатора для предсказания доли мультизаказов по характеристикам ресторана\n",
    "\n",
    "По сводным данным по ресторанам, а именно, по среднему времени между заказами и количеству позиций в заказах, была проведена попытка построить классификатор, определяющий кол-во мультизаказов в ресторане.\n",
    "Для обучения использовалась размеченная часть выборки А. Для каждого ресторана проводилась группировка пар заказов, ближайших по времени. \n",
    "Таким образом, признаками являлись:\n",
    "- разница во времени между заказами;\n",
    "- кол-во позиций в 1 заказе;\n",
    "- кол-во позиций во 2 заказае;\n",
    "Целевым признаком является показатель, объединены ли заказы в мультизаказ (1 - объединены, 0 - нет).\n",
    "\n",
    "Однако, ни один из методов не дал приемлимой точности.\n",
    "\n"
   ]
  },
  {
   "cell_type": "code",
   "execution_count": 66,
   "metadata": {},
   "outputs": [
    {
     "name": "stdout",
     "output_type": "stream",
     "text": [
      "Структура обучающего датасета:\n",
      "      Intervals  items_in_first  items_in_second  multi_order\n",
      "2117      792.0               3               13            0\n",
      "1121     3957.0              10                3            0\n",
      "1312     1069.0               3                3            0\n",
      "2537     1723.0               5                2            0\n",
      "54        814.0              10                5            1\n"
     ]
    }
   ],
   "source": [
    "######################Формирование датасета\n",
    "\n",
    "data = pd.read_excel('data.xlsx')\n",
    "data['order_created_datetime'] = pd.to_datetime(data['order_created_datetime'],\n",
    "                                                format = '%Y-%m-%d %H:%M:%S')\n",
    "double_df = data[pd.notna(data['batched_with_order_id'])].reset_index(drop=True) # таблица мультизаказов (442 шт)\n",
    "city_view = double_df.city.unique()[0]\n",
    "ones_df = data[(pd.isna(data['batched_with_order_id'])) & (data.brand_name == 'A')\n",
    "               & (data.city == city_view)].reset_index(drop=True)\n",
    "first_in_double = double_df[double_df['first_in_multiorder_flg'] == 1.0]\\\n",
    "    .reset_index(drop=True)  # таблица заказов, которые\n",
    "# доставляют первыми из двух в каждом мультизаказе (221 шт)\n",
    "intervals = []\n",
    "items_1 = []\n",
    "items_2 = []\n",
    "multi_order = []\n",
    "for i in range(len(first_in_double)):\n",
    "    second = double_df[double_df['order_id'] == first_in_double.loc[i]['batched_with_order_id']].values[0][0]\n",
    "    items_in_second = double_df[double_df['order_id'] == first_in_double.loc[i]['batched_with_order_id']].iloc[0]['order_items_cnt']\n",
    "    first = first_in_double.loc[i]['order_created_datetime']\n",
    "    items_in_first = first_in_double.loc[i]['order_items_cnt']\n",
    "    is_multi_order = 1\n",
    "    interval = (second - first).total_seconds()\n",
    "    if interval < 0:\n",
    "        items_1.append(items_in_second)\n",
    "        items_2.append(items_in_first)\n",
    "    else:\n",
    "        items_1.append(items_in_first)\n",
    "        items_2.append(items_in_second)\n",
    "    multi_order.append(1)\n",
    "    intervals.append(abs(interval))\n",
    "\n",
    "df = pd.DataFrame(list(zip(intervals, items_1, items_2, multi_order)),\n",
    "               columns =['Intervals', 'items_in_first', 'items_in_second', 'multi_order'])\n",
    "\n",
    "\n",
    "\n",
    "ones_df = data[(pd.isna(data['batched_with_order_id'])) &\n",
    "               (data.brand_name == 'A') & (data.city == city_view)].reset_index(drop=True)\n",
    "\n",
    "rests = ones_df['rest_id'].unique()\n",
    "\n",
    "\n",
    "intervals = []\n",
    "items_1 = []\n",
    "items_2 = []\n",
    "multi_order = []\n",
    "for rest in rests:\n",
    "    one_rest_orders = ones_df[ones_df['rest_id']==rest]\n",
    "    one_rest_orders = one_rest_orders.sort_values(by=['order_created_datetime'])\n",
    "    for i in range(len(one_rest_orders)-2):\n",
    "        for j in range(1, 2):\n",
    "            intervals.append((one_rest_orders.iloc[i+j]['order_created_datetime'] -\n",
    "                             one_rest_orders.iloc[i]['order_created_datetime']).total_seconds())\n",
    "            items_1.append(one_rest_orders.iloc[i]['order_items_cnt'])\n",
    "            items_2.append(one_rest_orders.iloc[i+j]['order_items_cnt'])\n",
    "            multi_order.append(0)\n",
    "\n",
    "single = pd.DataFrame(list(zip(intervals, items_1, items_2, multi_order)),\n",
    "               columns =['Intervals', 'items_in_first', 'items_in_second', 'multi_order'])\n",
    "\n",
    "train = pd.concat([df, single])\n",
    "print(\"Структура обучающего датасета:\")\n",
    "print(train.sample(5))\n",
    "train.to_csv(\"train.csv\", index=False)"
   ]
  },
  {
   "cell_type": "code",
   "execution_count": 133,
   "metadata": {},
   "outputs": [
    {
     "name": "stdout",
     "output_type": "stream",
     "text": [
      "F1-score = 0.04878048780487805\n"
     ]
    }
   ],
   "source": [
    "#########################Обучение классификатора\n",
    "\n",
    "from sklearn.metrics import f1_score\n",
    "from sklearn.model_selection import train_test_split\n",
    "from sklearn.linear_model import LogisticRegression\n",
    "from sklearn.ensemble import RandomForestClassifier\n",
    "\n",
    "data = pd.read_excel('data.xlsx')\n",
    "data['order_created_datetime'] = pd.to_datetime(data['order_created_datetime'],\n",
    "                                                format = '%Y-%m-%d %H:%M:%S')\n",
    "double_df = data[pd.notna(data['batched_with_order_id'])].reset_index(drop=True)\n",
    "city_view = double_df.city.unique()[0]\n",
    "\n",
    "ones_df = data[(pd.isna(data['batched_with_order_id'])) &\n",
    "               (data.brand_name == 'B') & (data.city == city_view)].reset_index(drop=True)\n",
    "#ones_df = data[(pd.isna(data['batched_with_order_id'])) &\n",
    "#               (data.brand_name == 'B')].reset_index(drop=True)\n",
    "ones_df = ones_df.sort_values(by=['order_created_datetime'])\n",
    "ones_df = ones_df[0:2000]\n",
    "rests = ones_df['rest_id'].unique()\n",
    "\n",
    "\n",
    "intervals = []\n",
    "items_1 = []\n",
    "items_2 = []\n",
    "multi_order = []\n",
    "id_first = []\n",
    "id_second = []\n",
    "\n",
    "for rest in rests:\n",
    "    one_rest_orders = ones_df[ones_df['rest_id']==rest]\n",
    "    one_rest_orders = one_rest_orders.sort_values(by=['order_created_datetime'])\n",
    "    for i in range(len(one_rest_orders)-2):\n",
    "        for j in range(1, 2):\n",
    "            intervals.append((one_rest_orders.iloc[i+j]['order_created_datetime'] -\n",
    "                             one_rest_orders.iloc[i]['order_created_datetime']).total_seconds())\n",
    "            items_1.append(one_rest_orders.iloc[i]['order_items_cnt'])\n",
    "            items_2.append(one_rest_orders.iloc[i+j]['order_items_cnt'])\n",
    "            id_first.append(one_rest_orders.iloc[i]['order_id'])\n",
    "            id_second.append(one_rest_orders.iloc[i+j]['order_id'])\n",
    "\n",
    "for_predict = pd.DataFrame(list(zip(intervals, items_1, items_2)),\n",
    "               columns =['Intervals', 'items_in_first', 'items_in_second'])\n",
    "\n",
    "ids = pd.DataFrame(list(zip(id_first, id_second, )),\n",
    "               columns =['id_first', 'id_second'])\n",
    "\n",
    "train = pd.read_csv('train.csv')\n",
    "\n",
    "train = train.sample(frac = 1,random_state = 42)\n",
    "\n",
    "X_train, X_test, Y_train, y_test = train_test_split(train.iloc[:, :-1], train['multi_order'],\n",
    "                                                                            test_size=0.2, random_state = 42)\n",
    "\n",
    "######################Оценка качества модели\n",
    "clf = RandomForestClassifier(class_weight='balanced', random_state = 42)\n",
    "clf.fit(X_train, Y_train)\n",
    "\n",
    "y_pred = clf.predict(X_test)\n",
    "print(f\"F1-score = {f1_score( y_test, y_pred)}\")\n",
    "\n",
    "######################Предсказания для группы B\n",
    "clf.fit(train.iloc[:, :-1], train['multi_order'])\n",
    "\n",
    "answer = clf.predict(for_predict)\n",
    "to_file = pd.DataFrame(list(zip(id_first, id_second, answer)),\n",
    "               columns =['id_first', 'id_second', 'multi_order'])\n",
    "to_file.to_csv('answer.csv', index=False)"
   ]
  },
  {
   "cell_type": "code",
   "execution_count": 146,
   "metadata": {},
   "outputs": [
    {
     "name": "stdout",
     "output_type": "stream",
     "text": [
      " Доля мультизаказов в группе В = 0.175\n"
     ]
    }
   ],
   "source": [
    "print(f\" Доля мультизаказов в группе В = {sum(answer)*2/ones_df.shape[0]}\")"
   ]
  },
  {
   "cell_type": "code",
   "execution_count": 144,
   "metadata": {},
   "outputs": [
    {
     "name": "stdout",
     "output_type": "stream",
     "text": [
      "Среднее время между заказами на предсказании 308.62285714285713\n"
     ]
    }
   ],
   "source": [
    "to_file = pd.DataFrame(list(zip(intervals, id_first, id_second, answer)),\n",
    "               columns =['intervals', 'id_first', 'id_second', 'multi_order'])\n",
    "#to_file.to_csv('answer.csv', index=False)\n",
    "\n",
    "print(f\"Среднее время между заказами на предсказании { to_file[to_file['multi_order']==1]['intervals'].mean()}\")\n"
   ]
  },
  {
   "cell_type": "markdown",
   "metadata": {},
   "source": [
    "Таким образом, полученное качество модели классификатора не позволяет говорить о его применимости для оценки объединения заказов в мультизаказ. \n",
    "Применив классификатор в качестве эвристики кол-ва мультизаказов, получаем значение доли мультизаказов в группе B, равное 17,5%."
   ]
  },
  {
   "cell_type": "markdown",
   "metadata": {},
   "source": [
    "### Выводы:\n",
    "На основании проведенного анализа, выдвинута гипотеза, что основным параметром для объединения заказов является время ожидания между заказами внутри ресторана.\n",
    "По выборке группы А построена эвристика на основе близости доли мультизаказов для расчитанной по эвристике и фактическим данным.\n",
    "\n",
    "Проведен расчет доли мультизаказов в группе B, которая равна 32%, по сравнению с 9% в группе А для эвристики, основанной только на времени между заказами.\n",
    "\n",
    "При использовании в качестве эвристики классификатора, доля мультизаказов составляет 17.5%."
   ]
  },
  {
   "cell_type": "code",
   "execution_count": null,
   "metadata": {},
   "outputs": [],
   "source": []
  }
 ],
 "metadata": {
  "kernelspec": {
   "display_name": "Python 3",
   "language": "python",
   "name": "python3"
  },
  "language_info": {
   "codemirror_mode": {
    "name": "ipython",
    "version": 3
   },
   "file_extension": ".py",
   "mimetype": "text/x-python",
   "name": "python",
   "nbconvert_exporter": "python",
   "pygments_lexer": "ipython3",
   "version": "3.7.4"
  }
 },
 "nbformat": 4,
 "nbformat_minor": 2
}
